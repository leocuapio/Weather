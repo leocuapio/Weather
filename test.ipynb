{
 "cells": [
  {
   "cell_type": "code",
   "execution_count": 18,
   "metadata": {},
   "outputs": [
    {
     "name": "stdout",
     "output_type": "stream",
     "text": [
      "1011\n",
      "Clouds\n",
      "{'coord': {'lon': -73.9496, 'lat': 40.6501}, 'weather': [{'id': 802, 'main': 'Clouds', 'description': 'scattered clouds', 'icon': '03n'}], 'base': 'stations', 'main': {'temp': 268.49, 'feels_like': 261.49, 'temp_min': 267.2, 'temp_max': 269.19, 'pressure': 1011, 'humidity': 50, 'sea_level': 1011, 'grnd_level': 1010}, 'visibility': 10000, 'wind': {'speed': 11.32, 'deg': 290, 'gust': 14.92}, 'clouds': {'all': 40}, 'dt': 1736386232, 'sys': {'type': 2, 'id': 2037026, 'country': 'US', 'sunrise': 1736338762, 'sunset': 1736372726}, 'timezone': -18000, 'id': 5110302, 'name': 'Brooklyn', 'cod': 200}\n"
     ]
    }
   ],
   "source": [
    "from dotenv import load_dotenv\n",
    "import os\n",
    "import datetime as dt\n",
    "import requests\n",
    "\n",
    "# Specify the custom .env filename\n",
    "# This loads the API key from the .env.local file into the environment.\n",
    "load_dotenv('.env.local')\n",
    "\n",
    "# Retrieve the OpenWeatherMap API key from environment variables\n",
    "api_key = os.getenv(\"OPENWEATHERMAP_API_KEY\")\n",
    "\n",
    "# If the API key is not found, raise an error and exit.\n",
    "if not api_key:\n",
    "    raise ValueError(\"API key not found. Check your .env.local file and variable name.\")\n",
    "\n",
    "def kelvin_to_fahrenheit_celsius(kelvin):\n",
    "    fahrenheit = (kelvin - 273.15) * 9/5 + 32\n",
    "    celsius = kelvin - 273.15\n",
    "    return fahrenheit, celsius\n",
    "\n",
    "city = \"Brooklyn\"\n",
    "\n",
    "url = f\"https://api.openweathermap.org/data/2.5/weather?appid={api_key}&q={city}\"\n",
    "\n",
    "response = requests.get(url)\n",
    "\n",
    "data = response.json()\n",
    "\n",
    "sunrise_timestamp = data['sys']['sunrise']\n",
    "sunset_timestamp = data['sys']['sunset']\n",
    "pressure = data['main']['pressure']\n",
    "print(pressure)\n",
    "weather_state = data['weather'][0]['main']\n",
    "print(weather_state)\n",
    "\n",
    "\n",
    "\n",
    "print(data)\n",
    "\n",
    "\n"
   ]
  },
  {
   "cell_type": "markdown",
   "metadata": {},
   "source": []
  },
  {
   "cell_type": "code",
   "execution_count": null,
   "metadata": {},
   "outputs": [],
   "source": []
  }
 ],
 "metadata": {
  "kernelspec": {
   "display_name": "Python 3",
   "language": "python",
   "name": "python3"
  },
  "language_info": {
   "codemirror_mode": {
    "name": "ipython",
    "version": 3
   },
   "file_extension": ".py",
   "mimetype": "text/x-python",
   "name": "python",
   "nbconvert_exporter": "python",
   "pygments_lexer": "ipython3",
   "version": "3.11.1"
  }
 },
 "nbformat": 4,
 "nbformat_minor": 2
}
